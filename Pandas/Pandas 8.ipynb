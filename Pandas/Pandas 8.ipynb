{
 "cells": [
  {
   "cell_type": "code",
   "execution_count": 1,
   "metadata": {},
   "outputs": [],
   "source": [
    "import pandas as pd"
   ]
  },
  {
   "cell_type": "code",
   "execution_count": 4,
   "metadata": {},
   "outputs": [
    {
     "data": {
      "text/html": [
       "<div>\n",
       "<style scoped>\n",
       "    .dataframe tbody tr th:only-of-type {\n",
       "        vertical-align: middle;\n",
       "    }\n",
       "\n",
       "    .dataframe tbody tr th {\n",
       "        vertical-align: top;\n",
       "    }\n",
       "\n",
       "    .dataframe thead th {\n",
       "        text-align: right;\n",
       "    }\n",
       "</style>\n",
       "<table border=\"1\" class=\"dataframe\">\n",
       "  <thead>\n",
       "    <tr style=\"text-align: right;\">\n",
       "      <th></th>\n",
       "      <th>Date</th>\n",
       "      <th>Open</th>\n",
       "      <th>High</th>\n",
       "      <th>Low</th>\n",
       "      <th>Close</th>\n",
       "      <th>Adj Close</th>\n",
       "      <th>Volume</th>\n",
       "    </tr>\n",
       "  </thead>\n",
       "  <tbody>\n",
       "    <tr>\n",
       "      <th>0</th>\n",
       "      <td>2021-04-30</td>\n",
       "      <td>53568.664063</td>\n",
       "      <td>57900.718750</td>\n",
       "      <td>53129.601563</td>\n",
       "      <td>57750.175781</td>\n",
       "      <td>57750.175781</td>\n",
       "      <td>52395931985</td>\n",
       "    </tr>\n",
       "    <tr>\n",
       "      <th>1</th>\n",
       "      <td>2021-05-01</td>\n",
       "      <td>57714.664063</td>\n",
       "      <td>58448.339844</td>\n",
       "      <td>57052.273438</td>\n",
       "      <td>57828.050781</td>\n",
       "      <td>57828.050781</td>\n",
       "      <td>42836427360</td>\n",
       "    </tr>\n",
       "    <tr>\n",
       "      <th>2</th>\n",
       "      <td>2021-05-02</td>\n",
       "      <td>57825.863281</td>\n",
       "      <td>57902.593750</td>\n",
       "      <td>56141.906250</td>\n",
       "      <td>56631.078125</td>\n",
       "      <td>56631.078125</td>\n",
       "      <td>38177405335</td>\n",
       "    </tr>\n",
       "    <tr>\n",
       "      <th>3</th>\n",
       "      <td>2021-05-03</td>\n",
       "      <td>56620.273438</td>\n",
       "      <td>58973.308594</td>\n",
       "      <td>56590.871094</td>\n",
       "      <td>57200.292969</td>\n",
       "      <td>57200.292969</td>\n",
       "      <td>51713139031</td>\n",
       "    </tr>\n",
       "    <tr>\n",
       "      <th>4</th>\n",
       "      <td>2021-05-04</td>\n",
       "      <td>57214.179688</td>\n",
       "      <td>57214.179688</td>\n",
       "      <td>53191.425781</td>\n",
       "      <td>53333.539063</td>\n",
       "      <td>53333.539063</td>\n",
       "      <td>68564706967</td>\n",
       "    </tr>\n",
       "  </tbody>\n",
       "</table>\n",
       "</div>"
      ],
      "text/plain": [
       "         Date          Open          High           Low         Close  \\\n",
       "0  2021-04-30  53568.664063  57900.718750  53129.601563  57750.175781   \n",
       "1  2021-05-01  57714.664063  58448.339844  57052.273438  57828.050781   \n",
       "2  2021-05-02  57825.863281  57902.593750  56141.906250  56631.078125   \n",
       "3  2021-05-03  56620.273438  58973.308594  56590.871094  57200.292969   \n",
       "4  2021-05-04  57214.179688  57214.179688  53191.425781  53333.539063   \n",
       "\n",
       "      Adj Close       Volume  \n",
       "0  57750.175781  52395931985  \n",
       "1  57828.050781  42836427360  \n",
       "2  56631.078125  38177405335  \n",
       "3  57200.292969  51713139031  \n",
       "4  53333.539063  68564706967  "
      ]
     },
     "execution_count": 4,
     "metadata": {},
     "output_type": "execute_result"
    }
   ],
   "source": [
    "df = pd.read_csv('Data/btc-usd.csv')\n",
    "df.head()"
   ]
  },
  {
   "cell_type": "code",
   "execution_count": 6,
   "metadata": {},
   "outputs": [
    {
     "data": {
      "text/html": [
       "<div>\n",
       "<style scoped>\n",
       "    .dataframe tbody tr th:only-of-type {\n",
       "        vertical-align: middle;\n",
       "    }\n",
       "\n",
       "    .dataframe tbody tr th {\n",
       "        vertical-align: top;\n",
       "    }\n",
       "\n",
       "    .dataframe thead th {\n",
       "        text-align: right;\n",
       "    }\n",
       "</style>\n",
       "<table border=\"1\" class=\"dataframe\">\n",
       "  <thead>\n",
       "    <tr style=\"text-align: right;\">\n",
       "      <th></th>\n",
       "      <th>Open</th>\n",
       "      <th>High</th>\n",
       "      <th>Low</th>\n",
       "      <th>Close</th>\n",
       "      <th>Adj Close</th>\n",
       "      <th>Volume</th>\n",
       "    </tr>\n",
       "    <tr>\n",
       "      <th>Date</th>\n",
       "      <th></th>\n",
       "      <th></th>\n",
       "      <th></th>\n",
       "      <th></th>\n",
       "      <th></th>\n",
       "      <th></th>\n",
       "    </tr>\n",
       "  </thead>\n",
       "  <tbody>\n",
       "    <tr>\n",
       "      <th>2021-04-30</th>\n",
       "      <td>53568.664063</td>\n",
       "      <td>57900.718750</td>\n",
       "      <td>53129.601563</td>\n",
       "      <td>57750.175781</td>\n",
       "      <td>57750.175781</td>\n",
       "      <td>52395931985</td>\n",
       "    </tr>\n",
       "    <tr>\n",
       "      <th>2021-05-01</th>\n",
       "      <td>57714.664063</td>\n",
       "      <td>58448.339844</td>\n",
       "      <td>57052.273438</td>\n",
       "      <td>57828.050781</td>\n",
       "      <td>57828.050781</td>\n",
       "      <td>42836427360</td>\n",
       "    </tr>\n",
       "    <tr>\n",
       "      <th>2021-05-02</th>\n",
       "      <td>57825.863281</td>\n",
       "      <td>57902.593750</td>\n",
       "      <td>56141.906250</td>\n",
       "      <td>56631.078125</td>\n",
       "      <td>56631.078125</td>\n",
       "      <td>38177405335</td>\n",
       "    </tr>\n",
       "    <tr>\n",
       "      <th>2021-05-03</th>\n",
       "      <td>56620.273438</td>\n",
       "      <td>58973.308594</td>\n",
       "      <td>56590.871094</td>\n",
       "      <td>57200.292969</td>\n",
       "      <td>57200.292969</td>\n",
       "      <td>51713139031</td>\n",
       "    </tr>\n",
       "    <tr>\n",
       "      <th>2021-05-04</th>\n",
       "      <td>57214.179688</td>\n",
       "      <td>57214.179688</td>\n",
       "      <td>53191.425781</td>\n",
       "      <td>53333.539063</td>\n",
       "      <td>53333.539063</td>\n",
       "      <td>68564706967</td>\n",
       "    </tr>\n",
       "  </tbody>\n",
       "</table>\n",
       "</div>"
      ],
      "text/plain": [
       "                    Open          High           Low         Close  \\\n",
       "Date                                                                 \n",
       "2021-04-30  53568.664063  57900.718750  53129.601563  57750.175781   \n",
       "2021-05-01  57714.664063  58448.339844  57052.273438  57828.050781   \n",
       "2021-05-02  57825.863281  57902.593750  56141.906250  56631.078125   \n",
       "2021-05-03  56620.273438  58973.308594  56590.871094  57200.292969   \n",
       "2021-05-04  57214.179688  57214.179688  53191.425781  53333.539063   \n",
       "\n",
       "               Adj Close       Volume  \n",
       "Date                                   \n",
       "2021-04-30  57750.175781  52395931985  \n",
       "2021-05-01  57828.050781  42836427360  \n",
       "2021-05-02  56631.078125  38177405335  \n",
       "2021-05-03  57200.292969  51713139031  \n",
       "2021-05-04  53333.539063  68564706967  "
      ]
     },
     "execution_count": 6,
     "metadata": {},
     "output_type": "execute_result"
    }
   ],
   "source": [
    "df = pd.read_csv('Data/btc-usd.csv',index_col='Date',parse_dates=['Date'])\n",
    "df.head()"
   ]
  },
  {
   "cell_type": "code",
   "execution_count": 7,
   "metadata": {},
   "outputs": [
    {
     "data": {
      "text/plain": [
       "DatetimeIndex(['2021-04-30', '2021-05-01', '2021-05-02', '2021-05-03',\n",
       "               '2021-05-04', '2021-05-05', '2021-05-06', '2021-05-07',\n",
       "               '2021-05-08', '2021-05-09',\n",
       "               ...\n",
       "               '2022-04-21', '2022-04-22', '2022-04-23', '2022-04-24',\n",
       "               '2022-04-25', '2022-04-26', '2022-04-27', '2022-04-28',\n",
       "               '2022-04-29', '2022-04-30'],\n",
       "              dtype='datetime64[ns]', name='Date', length=366, freq=None)"
      ]
     },
     "execution_count": 7,
     "metadata": {},
     "output_type": "execute_result"
    }
   ],
   "source": [
    "df.index"
   ]
  },
  {
   "cell_type": "code",
   "execution_count": 8,
   "metadata": {},
   "outputs": [
    {
     "data": {
      "text/plain": [
       "Date\n",
       "2021-04-30    57750.175781\n",
       "2021-05-01    57828.050781\n",
       "2021-05-02    56631.078125\n",
       "2021-05-03    57200.292969\n",
       "2021-05-04    53333.539063\n",
       "                  ...     \n",
       "2022-04-26    38117.460938\n",
       "2022-04-27    39241.121094\n",
       "2022-04-28    39773.828125\n",
       "2022-04-29    38609.824219\n",
       "2022-04-30    38281.816406\n",
       "Name: Close, Length: 366, dtype: float64"
      ]
     },
     "execution_count": 8,
     "metadata": {},
     "output_type": "execute_result"
    }
   ],
   "source": [
    "df ['Close']"
   ]
  },
  {
   "cell_type": "code",
   "execution_count": 9,
   "metadata": {},
   "outputs": [
    {
     "data": {
      "text/plain": [
       "pandas.core.series.Series"
      ]
     },
     "execution_count": 9,
     "metadata": {},
     "output_type": "execute_result"
    }
   ],
   "source": [
    "type(df['Close'])"
   ]
  },
  {
   "cell_type": "code",
   "execution_count": 14,
   "metadata": {},
   "outputs": [
    {
     "data": {
      "text/plain": [
       "Date\n",
       "2021-04-30    57750.175781\n",
       "2021-05-01    57828.050781\n",
       "2021-05-02    56631.078125\n",
       "2021-05-03    57200.292969\n",
       "2021-05-04    53333.539063\n",
       "Name: Close, dtype: float64"
      ]
     },
     "execution_count": 14,
     "metadata": {},
     "output_type": "execute_result"
    }
   ],
   "source": [
    "s1 = pd.read_csv('Data/btc-usd.csv',index_col='Date',parse_dates=['Date'], usecols=['Date','Close']).squeeze()\n",
    "s1.head()"
   ]
  },
  {
   "cell_type": "code",
   "execution_count": 16,
   "metadata": {},
   "outputs": [
    {
     "data": {
      "text/plain": [
       "pandas.core.series.Series"
      ]
     },
     "execution_count": 16,
     "metadata": {},
     "output_type": "execute_result"
    }
   ],
   "source": [
    "type (s1)"
   ]
  },
  {
   "cell_type": "code",
   "execution_count": null,
   "metadata": {},
   "outputs": [],
   "source": []
  }
 ],
 "metadata": {
  "kernelspec": {
   "display_name": "Python 3",
   "language": "python",
   "name": "python3"
  },
  "language_info": {
   "codemirror_mode": {
    "name": "ipython",
    "version": 3
   },
   "file_extension": ".py",
   "mimetype": "text/x-python",
   "name": "python",
   "nbconvert_exporter": "python",
   "pygments_lexer": "ipython3",
   "version": "3.13.1"
  }
 },
 "nbformat": 4,
 "nbformat_minor": 2
}
