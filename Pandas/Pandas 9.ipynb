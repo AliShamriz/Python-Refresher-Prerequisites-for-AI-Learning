{
 "cells": [
  {
   "cell_type": "code",
   "execution_count": 3,
   "metadata": {},
   "outputs": [],
   "source": [
    "import pandas as pd"
   ]
  },
  {
   "cell_type": "code",
   "execution_count": 3,
   "metadata": {},
   "outputs": [
    {
     "data": {
      "text/plain": [
       "First Name\n",
       "Douglas         NaN\n",
       "Thomas      61933.0\n",
       "Maria      130590.0\n",
       "Jerry      138705.0\n",
       "Larry      101004.0\n",
       "Dennis     115163.0\n",
       "Ruby        65476.0\n",
       "NaN         45906.0\n",
       "Angela      95570.0\n",
       "Frances    139852.0\n",
       "Name: Salary, dtype: float64"
      ]
     },
     "execution_count": 3,
     "metadata": {},
     "output_type": "execute_result"
    }
   ],
   "source": [
    "s1 = pd.read_csv('Data/employees.csv',index_col='First Name', usecols=['First Name','Salary']).squeeze()\n",
    "s1.head(10)"
   ]
  },
  {
   "cell_type": "code",
   "execution_count": 4,
   "metadata": {},
   "outputs": [
    {
     "data": {
      "text/plain": [
       "1001"
      ]
     },
     "execution_count": 4,
     "metadata": {},
     "output_type": "execute_result"
    }
   ],
   "source": [
    "len(s1)"
   ]
  },
  {
   "cell_type": "code",
   "execution_count": 5,
   "metadata": {},
   "outputs": [
    {
     "data": {
      "text/plain": [
       "np.int64(999)"
      ]
     },
     "execution_count": 5,
     "metadata": {},
     "output_type": "execute_result"
    }
   ],
   "source": [
    "s1.count()"
   ]
  },
  {
   "cell_type": "code",
   "execution_count": 6,
   "metadata": {},
   "outputs": [
    {
     "data": {
      "text/plain": [
       "count       999.000000\n",
       "mean      90655.528529\n",
       "std       32939.511615\n",
       "min       35013.000000\n",
       "25%       62560.000000\n",
       "50%       90427.000000\n",
       "75%      118744.500000\n",
       "max      149908.000000\n",
       "Name: Salary, dtype: float64"
      ]
     },
     "execution_count": 6,
     "metadata": {},
     "output_type": "execute_result"
    }
   ],
   "source": [
    "s1.describe()"
   ]
  },
  {
   "cell_type": "code",
   "execution_count": 7,
   "metadata": {},
   "outputs": [
    {
     "data": {
      "text/plain": [
       "First Name\n",
       "Michael       35013.0\n",
       "Kevin         35061.0\n",
       "Steven        35095.0\n",
       "Matthew       35203.0\n",
       "Cynthia       35381.0\n",
       "               ...   \n",
       "Cynthia      149684.0\n",
       "Rose         149903.0\n",
       "Katherine    149908.0\n",
       "Douglas           NaN\n",
       "NaN               NaN\n",
       "Name: Salary, Length: 1001, dtype: float64"
      ]
     },
     "execution_count": 7,
     "metadata": {},
     "output_type": "execute_result"
    }
   ],
   "source": [
    "s1.sort_values()"
   ]
  },
  {
   "cell_type": "code",
   "execution_count": 8,
   "metadata": {},
   "outputs": [
    {
     "data": {
      "text/plain": [
       "First Name\n",
       "Katherine    149908.0\n",
       "Rose         149903.0\n",
       "Cynthia      149684.0\n",
       "NaN          149654.0\n",
       "Kathy        149563.0\n",
       "               ...   \n",
       "Steven        35095.0\n",
       "Kevin         35061.0\n",
       "Michael       35013.0\n",
       "Douglas           NaN\n",
       "NaN               NaN\n",
       "Name: Salary, Length: 1001, dtype: float64"
      ]
     },
     "execution_count": 8,
     "metadata": {},
     "output_type": "execute_result"
    }
   ],
   "source": [
    "s1.sort_values(ascending=False)"
   ]
  },
  {
   "cell_type": "code",
   "execution_count": 12,
   "metadata": {},
   "outputs": [
    {
     "data": {
      "text/plain": [
       "First Name\n",
       "Douglas           NaN\n",
       "NaN               NaN\n",
       "Michael       35013.0\n",
       "Kevin         35061.0\n",
       "Steven        35095.0\n",
       "               ...   \n",
       "Kathy        149563.0\n",
       "NaN          149654.0\n",
       "Cynthia      149684.0\n",
       "Rose         149903.0\n",
       "Katherine    149908.0\n",
       "Name: Salary, Length: 1001, dtype: float64"
      ]
     },
     "execution_count": 12,
     "metadata": {},
     "output_type": "execute_result"
    }
   ],
   "source": [
    "s1.sort_values(na_position='first')"
   ]
  },
  {
   "cell_type": "code",
   "execution_count": 13,
   "metadata": {},
   "outputs": [
    {
     "data": {
      "text/plain": [
       "First Name\n",
       "Douglas           NaN\n",
       "NaN               NaN\n",
       "Katherine    149908.0\n",
       "Rose         149903.0\n",
       "Cynthia      149684.0\n",
       "               ...   \n",
       "Cynthia       35381.0\n",
       "Matthew       35203.0\n",
       "Steven        35095.0\n",
       "Kevin         35061.0\n",
       "Michael       35013.0\n",
       "Name: Salary, Length: 1001, dtype: float64"
      ]
     },
     "execution_count": 13,
     "metadata": {},
     "output_type": "execute_result"
    }
   ],
   "source": [
    "s1.sort_values(ascending=False,na_position='first')"
   ]
  },
  {
   "cell_type": "code",
   "execution_count": 14,
   "metadata": {},
   "outputs": [
    {
     "data": {
      "text/plain": [
       "First Name\n",
       "Thomas      61933.0\n",
       "Maria      130590.0\n",
       "Jerry      138705.0\n",
       "Larry      101004.0\n",
       "Dennis     115163.0\n",
       "             ...   \n",
       "Henry      132483.0\n",
       "Phillip     42392.0\n",
       "Russell     96914.0\n",
       "Larry       60500.0\n",
       "Albert     129949.0\n",
       "Name: Salary, Length: 999, dtype: float64"
      ]
     },
     "execution_count": 14,
     "metadata": {},
     "output_type": "execute_result"
    }
   ],
   "source": [
    "s1.dropna()"
   ]
  },
  {
   "cell_type": "code",
   "execution_count": 16,
   "metadata": {},
   "outputs": [
    {
     "data": {
      "text/plain": [
       "First Name\n",
       "Michael       35013.0\n",
       "Kevin         35061.0\n",
       "Steven        35095.0\n",
       "Matthew       35203.0\n",
       "Cynthia       35381.0\n",
       "               ...   \n",
       "Kathy        149563.0\n",
       "NaN          149654.0\n",
       "Cynthia      149684.0\n",
       "Rose         149903.0\n",
       "Katherine    149908.0\n",
       "Name: Salary, Length: 999, dtype: float64"
      ]
     },
     "execution_count": 16,
     "metadata": {},
     "output_type": "execute_result"
    }
   ],
   "source": [
    "s1.dropna().sort_values()"
   ]
  },
  {
   "cell_type": "code",
   "execution_count": 17,
   "metadata": {},
   "outputs": [
    {
     "data": {
      "text/plain": [
       "First Name\n",
       "Aaron     61602.0\n",
       "Aaron     58755.0\n",
       "Aaron     52119.0\n",
       "Aaron     63126.0\n",
       "Adam      95327.0\n",
       "           ...   \n",
       "NaN       95866.0\n",
       "NaN      133472.0\n",
       "NaN      107351.0\n",
       "NaN      143638.0\n",
       "NaN           NaN\n",
       "Name: Salary, Length: 1001, dtype: float64"
      ]
     },
     "execution_count": 17,
     "metadata": {},
     "output_type": "execute_result"
    }
   ],
   "source": [
    "s1.sort_index()"
   ]
  },
  {
   "cell_type": "code",
   "execution_count": 18,
   "metadata": {},
   "outputs": [
    {
     "data": {
      "text/plain": [
       "First Name\n",
       "Aaron     61602.0\n",
       "Aaron     58755.0\n",
       "Aaron     52119.0\n",
       "Aaron     63126.0\n",
       "Adam      95327.0\n",
       "Adam     110194.0\n",
       "Adam      71276.0\n",
       "Adam      45181.0\n",
       "Alan     111786.0\n",
       "Alan      40341.0\n",
       "Name: Salary, dtype: float64"
      ]
     },
     "execution_count": 18,
     "metadata": {},
     "output_type": "execute_result"
    }
   ],
   "source": [
    "s1.sort_index().head(10)"
   ]
  },
  {
   "cell_type": "code",
   "execution_count": 20,
   "metadata": {},
   "outputs": [
    {
     "data": {
      "text/plain": [
       "First Name\n",
       "Katherine    149908.0\n",
       "Rose         149903.0\n",
       "Cynthia      149684.0\n",
       "Name: Salary, dtype: float64"
      ]
     },
     "execution_count": 20,
     "metadata": {},
     "output_type": "execute_result"
    }
   ],
   "source": [
    "s1.nlargest(3)"
   ]
  },
  {
   "cell_type": "code",
   "execution_count": 21,
   "metadata": {},
   "outputs": [
    {
     "data": {
      "text/plain": [
       "First Name\n",
       "Michael      35013.0\n",
       "Kevin        35061.0\n",
       "Steven       35095.0\n",
       "Matthew      35203.0\n",
       "Cynthia      35381.0\n",
       "Christina    35477.0\n",
       "Kathleen     35575.0\n",
       "Terry        35633.0\n",
       "Bruce        35802.0\n",
       "Frances      35884.0\n",
       "Name: Salary, dtype: float64"
      ]
     },
     "execution_count": 21,
     "metadata": {},
     "output_type": "execute_result"
    }
   ],
   "source": [
    "s1.nsmallest(10)"
   ]
  },
  {
   "cell_type": "code",
   "execution_count": 22,
   "metadata": {},
   "outputs": [
    {
     "data": {
      "text/plain": [
       "count       10.000000\n",
       "mean     35412.400000\n",
       "std        313.058461\n",
       "min      35013.000000\n",
       "25%      35122.000000\n",
       "50%      35429.000000\n",
       "75%      35618.500000\n",
       "max      35884.000000\n",
       "Name: Salary, dtype: float64"
      ]
     },
     "execution_count": 22,
     "metadata": {},
     "output_type": "execute_result"
    }
   ],
   "source": [
    "s1.nsmallest(10).describe()"
   ]
  },
  {
   "cell_type": "code",
   "execution_count": 23,
   "metadata": {},
   "outputs": [
    {
     "data": {
      "text/plain": [
       "count        10.000000\n",
       "mean     149405.600000\n",
       "std         401.444115\n",
       "min      148857.000000\n",
       "25%      149015.000000\n",
       "50%      149509.500000\n",
       "75%      149676.500000\n",
       "max      149908.000000\n",
       "Name: Salary, dtype: float64"
      ]
     },
     "execution_count": 23,
     "metadata": {},
     "output_type": "execute_result"
    }
   ],
   "source": [
    "s1.nlargest(10).describe()"
   ]
  },
  {
   "cell_type": "code",
   "execution_count": null,
   "metadata": {},
   "outputs": [],
   "source": []
  }
 ],
 "metadata": {
  "kernelspec": {
   "display_name": "Python 3",
   "language": "python",
   "name": "python3"
  },
  "language_info": {
   "codemirror_mode": {
    "name": "ipython",
    "version": 3
   },
   "file_extension": ".py",
   "mimetype": "text/x-python",
   "name": "python",
   "nbconvert_exporter": "python",
   "pygments_lexer": "ipython3",
   "version": "3.13.1"
  }
 },
 "nbformat": 4,
 "nbformat_minor": 2
}
