{
 "cells": [
  {
   "cell_type": "code",
   "execution_count": 1,
   "metadata": {},
   "outputs": [],
   "source": [
    "import pandas as pd"
   ]
  },
  {
   "cell_type": "code",
   "execution_count": 2,
   "metadata": {},
   "outputs": [
    {
     "name": "stdout",
     "output_type": "stream",
     "text": [
      "<class 'pandas.core.frame.DataFrame'>\n",
      "RangeIndex: 435578 entries, 0 to 435577\n",
      "Data columns (total 5 columns):\n",
      " #   Column        Non-Null Count   Dtype \n",
      "---  ------        --------------   ----- \n",
      " 0   Manufacturer  435578 non-null  object\n",
      " 1   Year          435578 non-null  int64 \n",
      " 2   Fuel          432985 non-null  object\n",
      " 3   Transmission  432402 non-null  object\n",
      " 4   Price         435578 non-null  int64 \n",
      "dtypes: int64(2), object(3)\n",
      "memory usage: 16.6+ MB\n"
     ]
    }
   ],
   "source": [
    "df = pd.read_csv('Data/Used_cars.csv')\n",
    "df.info()"
   ]
  },
  {
   "cell_type": "code",
   "execution_count": 3,
   "metadata": {},
   "outputs": [
    {
     "data": {
      "text/plain": [
       "Fuel\n",
       "Gas         382716\n",
       "Diesel       33347\n",
       "Other        12331\n",
       "Hybrid        3812\n",
       "Electric       779\n",
       "Name: count, dtype: int64"
      ]
     },
     "execution_count": 3,
     "metadata": {},
     "output_type": "execute_result"
    }
   ],
   "source": [
    "df['Fuel'].value_counts()"
   ]
  },
  {
   "cell_type": "code",
   "execution_count": 4,
   "metadata": {},
   "outputs": [
    {
     "data": {
      "text/plain": [
       "0           Gas\n",
       "1           Gas\n",
       "2           Gas\n",
       "3           Gas\n",
       "4           Gas\n",
       "          ...  \n",
       "435573      Gas\n",
       "435574      Gas\n",
       "435575      Gas\n",
       "435576    Other\n",
       "435577      Gas\n",
       "Name: Fuel, Length: 435578, dtype: category\n",
       "Categories (5, object): ['Diesel', 'Electric', 'Gas', 'Hybrid', 'Other']"
      ]
     },
     "execution_count": 4,
     "metadata": {},
     "output_type": "execute_result"
    }
   ],
   "source": [
    "df['Fuel'].astype('category')"
   ]
  },
  {
   "cell_type": "code",
   "execution_count": 6,
   "metadata": {},
   "outputs": [
    {
     "name": "stdout",
     "output_type": "stream",
     "text": [
      "<class 'pandas.core.frame.DataFrame'>\n",
      "RangeIndex: 435578 entries, 0 to 435577\n",
      "Data columns (total 5 columns):\n",
      " #   Column        Non-Null Count   Dtype   \n",
      "---  ------        --------------   -----   \n",
      " 0   Manufacturer  435578 non-null  object  \n",
      " 1   Year          435578 non-null  int64   \n",
      " 2   Fuel          432985 non-null  category\n",
      " 3   Transmission  432402 non-null  object  \n",
      " 4   Price         435578 non-null  int64   \n",
      "dtypes: category(1), int64(2), object(2)\n",
      "memory usage: 13.7+ MB\n"
     ]
    }
   ],
   "source": [
    "df['Fuel']=df['Fuel'].astype('category')\n",
    "df.info()"
   ]
  },
  {
   "cell_type": "code",
   "execution_count": 7,
   "metadata": {},
   "outputs": [
    {
     "data": {
      "text/plain": [
       "Transmission\n",
       "Automatic    390824\n",
       "Other         20967\n",
       "Manual        20611\n",
       "Name: count, dtype: int64"
      ]
     },
     "execution_count": 7,
     "metadata": {},
     "output_type": "execute_result"
    }
   ],
   "source": [
    "df ['Transmission'].value_counts()"
   ]
  },
  {
   "cell_type": "code",
   "execution_count": 8,
   "metadata": {},
   "outputs": [
    {
     "name": "stdout",
     "output_type": "stream",
     "text": [
      "<class 'pandas.core.frame.DataFrame'>\n",
      "RangeIndex: 435578 entries, 0 to 435577\n",
      "Data columns (total 5 columns):\n",
      " #   Column        Non-Null Count   Dtype   \n",
      "---  ------        --------------   -----   \n",
      " 0   Manufacturer  435578 non-null  object  \n",
      " 1   Year          435578 non-null  int64   \n",
      " 2   Fuel          432985 non-null  category\n",
      " 3   Transmission  432402 non-null  category\n",
      " 4   Price         435578 non-null  int64   \n",
      "dtypes: category(2), int64(2), object(1)\n",
      "memory usage: 10.8+ MB\n"
     ]
    }
   ],
   "source": [
    "df['Transmission']=df['Transmission'].astype('category')\n",
    "df.info()"
   ]
  },
  {
   "cell_type": "code",
   "execution_count": null,
   "metadata": {},
   "outputs": [],
   "source": []
  }
 ],
 "metadata": {
  "kernelspec": {
   "display_name": "Python 3",
   "language": "python",
   "name": "python3"
  },
  "language_info": {
   "codemirror_mode": {
    "name": "ipython",
    "version": 3
   },
   "file_extension": ".py",
   "mimetype": "text/x-python",
   "name": "python",
   "nbconvert_exporter": "python",
   "pygments_lexer": "ipython3",
   "version": "3.13.1"
  }
 },
 "nbformat": 4,
 "nbformat_minor": 2
}
