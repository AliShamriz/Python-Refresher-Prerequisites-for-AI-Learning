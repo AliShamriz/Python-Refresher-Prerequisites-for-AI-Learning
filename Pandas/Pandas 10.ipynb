{
 "cells": [
  {
   "cell_type": "code",
   "execution_count": 3,
   "metadata": {},
   "outputs": [],
   "source": [
    "import pandas as pd"
   ]
  },
  {
   "cell_type": "code",
   "execution_count": 4,
   "metadata": {},
   "outputs": [
    {
     "data": {
      "text/plain": [
       "First Name\n",
       "Douglas         NaN\n",
       "Thomas      61933.0\n",
       "Maria      130590.0\n",
       "Jerry      138705.0\n",
       "Larry      101004.0\n",
       "Dennis     115163.0\n",
       "Ruby        65476.0\n",
       "NaN         45906.0\n",
       "Angela      95570.0\n",
       "Frances    139852.0\n",
       "Name: Salary, dtype: float64"
      ]
     },
     "execution_count": 4,
     "metadata": {},
     "output_type": "execute_result"
    }
   ],
   "source": [
    "s1 = pd.read_csv('Data/employees.csv',index_col='First Name', usecols=['First Name','Salary']).squeeze()\n",
    "s1.head(10)"
   ]
  },
  {
   "cell_type": "code",
   "execution_count": 5,
   "metadata": {},
   "outputs": [
    {
     "data": {
      "text/plain": [
       "First Name\n",
       "Thomas      61933.0\n",
       "Maria      130590.0\n",
       "Jerry      138705.0\n",
       "Larry      101004.0\n",
       "Dennis     115163.0\n",
       "             ...   \n",
       "Henry      132483.0\n",
       "Phillip     42392.0\n",
       "Russell     96914.0\n",
       "Larry       60500.0\n",
       "Albert     129949.0\n",
       "Name: Salary, Length: 999, dtype: float64"
      ]
     },
     "execution_count": 5,
     "metadata": {},
     "output_type": "execute_result"
    }
   ],
   "source": [
    "s1.dropna()"
   ]
  },
  {
   "cell_type": "code",
   "execution_count": null,
   "metadata": {},
   "outputs": [],
   "source": []
  }
 ],
 "metadata": {
  "kernelspec": {
   "display_name": "Python 3",
   "language": "python",
   "name": "python3"
  },
  "language_info": {
   "codemirror_mode": {
    "name": "ipython",
    "version": 3
   },
   "file_extension": ".py",
   "mimetype": "text/x-python",
   "name": "python",
   "nbconvert_exporter": "python",
   "pygments_lexer": "ipython3",
   "version": "3.13.1"
  }
 },
 "nbformat": 4,
 "nbformat_minor": 2
}
